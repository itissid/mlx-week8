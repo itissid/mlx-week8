{
 "cells": [
  {
   "cell_type": "code",
   "execution_count": 13,
   "metadata": {},
   "outputs": [
    {
     "name": "stdout",
     "output_type": "stream",
     "text": [
      "/workspace/mlx-week8\n"
     ]
    }
   ],
   "source": [
    "!pwd"
   ]
  },
  {
   "cell_type": "code",
   "execution_count": 19,
   "metadata": {},
   "outputs": [
    {
     "name": "stdout",
     "output_type": "stream",
     "text": [
      "/workspace/mlx-week8\n",
      "/workspace/mlx-week8\n"
     ]
    }
   ],
   "source": [
    "import os\n",
    "from pathlib import Path\n",
    "\n",
    "print(os.getcwd())\n",
    "# home = os.path.expanduser(\"~\")\n",
    "# home_path = Path(home)\n",
    "# print(home_path)\n",
    "project_path = Path(\"/workspace/mlx-week8\")\n",
    "# project_path = Path(os.path.expanduser(\"~\") + \"/workspace/mlx-week8\")\n",
    "print(project_path)\n",
    "os.chdir(project_path)"
   ]
  },
  {
   "cell_type": "code",
   "execution_count": 15,
   "metadata": {},
   "outputs": [],
   "source": [
    "from datasets import load_dataset"
   ]
  },
  {
   "cell_type": "code",
   "execution_count": 27,
   "metadata": {},
   "outputs": [
    {
     "name": "stderr",
     "output_type": "stream",
     "text": [
      "/root/miniconda3/envs/mlx-week8/lib/python3.11/site-packages/datasets/load.py:2555: FutureWarning: 'ignore_verifications' was deprecated in favor of 'verification_mode' in version 2.9.1 and will be removed in 3.0.0.\n",
      "You can remove this warning by passing 'verification_mode=no_checks' instead.\n",
      "  warnings.warn(\n"
     ]
    }
   ],
   "source": [
    "marco_dataset = load_dataset(\"ms_marco\", \"v2.1\", ignore_verifications=True)"
   ]
  },
  {
   "cell_type": "markdown",
   "metadata": {},
   "source": []
  },
  {
   "cell_type": "code",
   "execution_count": 14,
   "metadata": {},
   "outputs": [],
   "source": []
  },
  {
   "cell_type": "code",
   "execution_count": 21,
   "metadata": {},
   "outputs": [],
   "source": [
    "from src.mlx_week8 import data_utils "
   ]
  },
  {
   "cell_type": "code",
   "execution_count": null,
   "metadata": {},
   "outputs": [],
   "source": []
  },
  {
   "cell_type": "code",
   "execution_count": 30,
   "metadata": {},
   "outputs": [
    {
     "data": {
      "text/plain": [
       "DatasetDict({\n",
       "    validation: Dataset({\n",
       "        features: ['answers', 'passages', 'query', 'query_id', 'query_type', 'wellFormedAnswers'],\n",
       "        num_rows: 101093\n",
       "    })\n",
       "    train: Dataset({\n",
       "        features: ['answers', 'passages', 'query', 'query_id', 'query_type', 'wellFormedAnswers'],\n",
       "        num_rows: 808731\n",
       "    })\n",
       "    test: Dataset({\n",
       "        features: ['answers', 'passages', 'query', 'query_id', 'query_type', 'wellFormedAnswers'],\n",
       "        num_rows: 101092\n",
       "    })\n",
       "})"
      ]
     },
     "execution_count": 30,
     "metadata": {},
     "output_type": "execute_result"
    }
   ],
   "source": [
    "marco_dataset"
   ]
  },
  {
   "cell_type": "code",
   "execution_count": 28,
   "metadata": {},
   "outputs": [],
   "source": [
    "train_dataset = marco_dataset['train']\n",
    "test_dataset = marco_dataset['test']\n",
    "validation_dataset = marco_dataset['validation']"
   ]
  },
  {
   "cell_type": "code",
   "execution_count": 24,
   "metadata": {},
   "outputs": [],
   "source": [
    "import pandas as pd\n",
    "from importlib import reload"
   ]
  },
  {
   "cell_type": "markdown",
   "metadata": {},
   "source": [
    "# Convet the data to pandas and filter them"
   ]
  },
  {
   "cell_type": "code",
   "execution_count": 29,
   "metadata": {},
   "outputs": [],
   "source": [
    "train_df = pd.DataFrame(train_dataset)\n"
   ]
  },
  {
   "cell_type": "code",
   "execution_count": 30,
   "metadata": {},
   "outputs": [],
   "source": [
    "\n",
    "test_df = pd.DataFrame(test_dataset)\n"
   ]
  },
  {
   "cell_type": "code",
   "execution_count": 31,
   "metadata": {},
   "outputs": [],
   "source": [
    "\n",
    "validation_df = pd.DataFrame(validation_dataset)"
   ]
  },
  {
   "cell_type": "code",
   "execution_count": 34,
   "metadata": {},
   "outputs": [
    {
     "data": {
      "text/html": [
       "<div>\n",
       "<style scoped>\n",
       "    .dataframe tbody tr th:only-of-type {\n",
       "        vertical-align: middle;\n",
       "    }\n",
       "\n",
       "    .dataframe tbody tr th {\n",
       "        vertical-align: top;\n",
       "    }\n",
       "\n",
       "    .dataframe thead th {\n",
       "        text-align: right;\n",
       "    }\n",
       "</style>\n",
       "<table border=\"1\" class=\"dataframe\">\n",
       "  <thead>\n",
       "    <tr style=\"text-align: right;\">\n",
       "      <th></th>\n",
       "      <th>answers</th>\n",
       "      <th>passages</th>\n",
       "      <th>query</th>\n",
       "      <th>query_id</th>\n",
       "      <th>query_type</th>\n",
       "      <th>wellFormedAnswers</th>\n",
       "    </tr>\n",
       "  </thead>\n",
       "  <tbody>\n",
       "    <tr>\n",
       "      <th>23</th>\n",
       "      <td>[Bartholomew]</td>\n",
       "      <td>{'is_selected': [0, 0, 0, 1, 0, 0, 0, 0, 0, 0]...</td>\n",
       "      <td>what county is columbus city in</td>\n",
       "      <td>604568</td>\n",
       "      <td>LOCATION</td>\n",
       "      <td>[Columbus is a city in Bartholomew County.]</td>\n",
       "    </tr>\n",
       "    <tr>\n",
       "      <th>35</th>\n",
       "      <td>[A contemporary Asian dish consisting of an om...</td>\n",
       "      <td>{'is_selected': [0, 0, 0, 0, 0, 0, 1, 0, 0, 0]...</td>\n",
       "      <td>what is a omurice omelet</td>\n",
       "      <td>693333</td>\n",
       "      <td>DESCRIPTION</td>\n",
       "      <td>[An omurice omelet is a contemporary Asian dis...</td>\n",
       "    </tr>\n",
       "    <tr>\n",
       "      <th>39</th>\n",
       "      <td>[A Jeep Compass Alternator Replacement is betw...</td>\n",
       "      <td>{'is_selected': [1, 0, 0, 0, 0, 0, 0, 0, 0, 0]...</td>\n",
       "      <td>how much does it cost to change a jeep alternator</td>\n",
       "      <td>315061</td>\n",
       "      <td>NUMERIC</td>\n",
       "      <td>[The cost for a Jeep Compass Alternator Replac...</td>\n",
       "    </tr>\n",
       "    <tr>\n",
       "      <th>40</th>\n",
       "      <td>[Crucial for proper brain function and plays a...</td>\n",
       "      <td>{'is_selected': [0, 0, 0, 1, 0, 0, 0, 0, 0, 0]...</td>\n",
       "      <td>what does folic acid do</td>\n",
       "      <td>637779</td>\n",
       "      <td>DESCRIPTION</td>\n",
       "      <td>[Folic acid is crucial for proper brain functi...</td>\n",
       "    </tr>\n",
       "    <tr>\n",
       "      <th>42</th>\n",
       "      <td>[Pinellas County]</td>\n",
       "      <td>{'is_selected': [0, 1, 0, 0, 0, 0, 0, 0, 0, 0]...</td>\n",
       "      <td>what county is seminole fl in</td>\n",
       "      <td>612569</td>\n",
       "      <td>LOCATION</td>\n",
       "      <td>[Seminole, Florida is in Pinellas County.]</td>\n",
       "    </tr>\n",
       "    <tr>\n",
       "      <th>43</th>\n",
       "      <td>[$4250]</td>\n",
       "      <td>{'is_selected': [0, 0, 0, 0, 0, 0, 0, 0, 0, 1]...</td>\n",
       "      <td>average cost dental implant</td>\n",
       "      <td>32055</td>\n",
       "      <td>NUMERIC</td>\n",
       "      <td>[The Average cost for Dental Implant is $4250.]</td>\n",
       "    </tr>\n",
       "    <tr>\n",
       "      <th>48</th>\n",
       "      <td>[Prizes are considered taxable income regardle...</td>\n",
       "      <td>{'is_selected': [1, 0, 0, 0, 0, 0, 0, 0, 0, 0]...</td>\n",
       "      <td>prize money taxable income</td>\n",
       "      <td>481996</td>\n",
       "      <td>NUMERIC</td>\n",
       "      <td>[Prizes are considered taxable income regardle...</td>\n",
       "    </tr>\n",
       "    <tr>\n",
       "      <th>50</th>\n",
       "      <td>[Onondaga]</td>\n",
       "      <td>{'is_selected': [0, 1, 0, 0, 0, 0, 0, 0, 0, 0]...</td>\n",
       "      <td>what county is nine mile in</td>\n",
       "      <td>610348</td>\n",
       "      <td>LOCATION</td>\n",
       "      <td>[Nine Mile is in Onondaga county.]</td>\n",
       "    </tr>\n",
       "    <tr>\n",
       "      <th>51</th>\n",
       "      <td>[Salpingectomy is the surgical removal of one ...</td>\n",
       "      <td>{'is_selected': [0, 0, 0, 0, 0, 1, 0, 0, 0, 0]...</td>\n",
       "      <td>what is a salpingectomies</td>\n",
       "      <td>698805</td>\n",
       "      <td>DESCRIPTION</td>\n",
       "      <td>[Salpingectomy is the surgical removal of one ...</td>\n",
       "    </tr>\n",
       "    <tr>\n",
       "      <th>57</th>\n",
       "      <td>[Trauma, Periodontitis, Orthodontic treatment,...</td>\n",
       "      <td>{'is_selected': [1, 0, 0, 0, 0, 0, 0, 0, 0, 0]...</td>\n",
       "      <td>what causes resorption of teeth</td>\n",
       "      <td>591215</td>\n",
       "      <td>DESCRIPTION</td>\n",
       "      <td>[Trauma, periodontitis, orthodontic treatment,...</td>\n",
       "    </tr>\n",
       "  </tbody>\n",
       "</table>\n",
       "</div>"
      ],
      "text/plain": [
       "                                              answers  \\\n",
       "23                                      [Bartholomew]   \n",
       "35  [A contemporary Asian dish consisting of an om...   \n",
       "39  [A Jeep Compass Alternator Replacement is betw...   \n",
       "40  [Crucial for proper brain function and plays a...   \n",
       "42                                  [Pinellas County]   \n",
       "43                                            [$4250]   \n",
       "48  [Prizes are considered taxable income regardle...   \n",
       "50                                         [Onondaga]   \n",
       "51  [Salpingectomy is the surgical removal of one ...   \n",
       "57  [Trauma, Periodontitis, Orthodontic treatment,...   \n",
       "\n",
       "                                             passages  \\\n",
       "23  {'is_selected': [0, 0, 0, 1, 0, 0, 0, 0, 0, 0]...   \n",
       "35  {'is_selected': [0, 0, 0, 0, 0, 0, 1, 0, 0, 0]...   \n",
       "39  {'is_selected': [1, 0, 0, 0, 0, 0, 0, 0, 0, 0]...   \n",
       "40  {'is_selected': [0, 0, 0, 1, 0, 0, 0, 0, 0, 0]...   \n",
       "42  {'is_selected': [0, 1, 0, 0, 0, 0, 0, 0, 0, 0]...   \n",
       "43  {'is_selected': [0, 0, 0, 0, 0, 0, 0, 0, 0, 1]...   \n",
       "48  {'is_selected': [1, 0, 0, 0, 0, 0, 0, 0, 0, 0]...   \n",
       "50  {'is_selected': [0, 1, 0, 0, 0, 0, 0, 0, 0, 0]...   \n",
       "51  {'is_selected': [0, 0, 0, 0, 0, 1, 0, 0, 0, 0]...   \n",
       "57  {'is_selected': [1, 0, 0, 0, 0, 0, 0, 0, 0, 0]...   \n",
       "\n",
       "                                                query  query_id   query_type  \\\n",
       "23                    what county is columbus city in    604568     LOCATION   \n",
       "35                           what is a omurice omelet    693333  DESCRIPTION   \n",
       "39  how much does it cost to change a jeep alternator    315061      NUMERIC   \n",
       "40                            what does folic acid do    637779  DESCRIPTION   \n",
       "42                      what county is seminole fl in    612569     LOCATION   \n",
       "43                        average cost dental implant     32055      NUMERIC   \n",
       "48                         prize money taxable income    481996      NUMERIC   \n",
       "50                        what county is nine mile in    610348     LOCATION   \n",
       "51                          what is a salpingectomies    698805  DESCRIPTION   \n",
       "57                    what causes resorption of teeth    591215  DESCRIPTION   \n",
       "\n",
       "                                    wellFormedAnswers  \n",
       "23        [Columbus is a city in Bartholomew County.]  \n",
       "35  [An omurice omelet is a contemporary Asian dis...  \n",
       "39  [The cost for a Jeep Compass Alternator Replac...  \n",
       "40  [Folic acid is crucial for proper brain functi...  \n",
       "42         [Seminole, Florida is in Pinellas County.]  \n",
       "43    [The Average cost for Dental Implant is $4250.]  \n",
       "48  [Prizes are considered taxable income regardle...  \n",
       "50                 [Nine Mile is in Onondaga county.]  \n",
       "51  [Salpingectomy is the surgical removal of one ...  \n",
       "57  [Trauma, periodontitis, orthodontic treatment,...  "
      ]
     },
     "execution_count": 34,
     "metadata": {},
     "output_type": "execute_result"
    }
   ],
   "source": [
    "train_df[train_df['wellFormedAnswers'].apply(lambda x: len(x)) > 0].head(10)"
   ]
  },
  {
   "cell_type": "code",
   "execution_count": 35,
   "metadata": {},
   "outputs": [
    {
     "data": {
      "text/plain": [
       "((808731, 6), (101092, 6))"
      ]
     },
     "execution_count": 35,
     "metadata": {},
     "output_type": "execute_result"
    }
   ],
   "source": [
    "train_df.shape, test_df.shape"
   ]
  },
  {
   "cell_type": "code",
   "execution_count": 36,
   "metadata": {},
   "outputs": [],
   "source": [
    "train_df_wfa = train_df[train_df['wellFormedAnswers'].apply(lambda x: len(x)) > 0]\n",
    "test_df_wfa = test_df[test_df['wellFormedAnswers'].apply(lambda x: len(x)) > 0]\n",
    "validation_df_wfa = validation_df[validation_df['wellFormedAnswers'].apply(lambda x: len(x)) > 0]"
   ]
  },
  {
   "cell_type": "code",
   "execution_count": 37,
   "metadata": {},
   "outputs": [
    {
     "data": {
      "text/plain": [
       "((12467, 6), (153725, 6), (0, 6))"
      ]
     },
     "execution_count": 37,
     "metadata": {},
     "output_type": "execute_result"
    }
   ],
   "source": [
    "validation_df_wfa.shape, train_df_wfa.shape, test_df_wfa.shape"
   ]
  },
  {
   "cell_type": "code",
   "execution_count": 38,
   "metadata": {},
   "outputs": [
    {
     "name": "stdout",
     "output_type": "stream",
     "text": [
      "dataset shape: (153725, 6)\n",
      "Total number of urls: 1533292\n",
      "Total number of unique urls: 669746\n",
      "Total number of hashed urls: 669746\n",
      "Total number of queries: 153725\n",
      "dataset shape: (12467, 6)\n",
      "Total number of urls: 124316\n",
      "Total number of unique urls: 59047\n",
      "Total number of hashed urls: 59047\n",
      "Total number of queries: 12467\n"
     ]
    }
   ],
   "source": [
    "reload(data_utils)\n",
    "(train_ids_to_urls, train_urls_to_ids, train_url_id_to_doctext_mapping, train_query_id_to_query_mapping, train_query_id_to_wfa) = data_utils.create_lookups(train_df_wfa)\n"
   ]
  },
  {
   "cell_type": "code",
   "execution_count": 40,
   "metadata": {},
   "outputs": [
    {
     "name": "stdout",
     "output_type": "stream",
     "text": [
      "dataset shape: (12467, 6)\n",
      "Total number of urls: 124316\n",
      "Total number of unique urls: 59047\n",
      "Total number of hashed urls: 59047\n",
      "Total number of queries: 12467\n"
     ]
    }
   ],
   "source": [
    "\n",
    "(test_ids_to_urls, test_urls_to_ids, test_url_id_to_doctext_mapping, test_query_id_to_query_mapping, test_query_id_to_wfa) = data_utils.create_lookups(validation_df_wfa)"
   ]
  },
  {
   "cell_type": "markdown",
   "metadata": {},
   "source": [
    "# Save all of these once and reuse them "
   ]
  },
  {
   "cell_type": "code",
   "execution_count": 46,
   "metadata": {},
   "outputs": [],
   "source": [
    "import pickle\n",
    "def save(filename, lookup):\n",
    "    with open(filename, \"wb\") as f:\n",
    "        pickle.dump(lookup, f)"
   ]
  },
  {
   "cell_type": "code",
   "execution_count": 47,
   "metadata": {},
   "outputs": [],
   "source": [
    "save(\"train_url_id_to_doctext_mapping.pkl\", train_url_id_to_doctext_mapping)\n",
    "save(\"test_url_id_to_doctext_mapping.pkl\", test_url_id_to_doctext_mapping)\n",
    "save(\"train_query_id_to_query_mapping.pkl\", train_query_id_to_query_mapping)\n",
    "save(\"test_query_id_to_query_mapping.pkl\", test_query_id_to_query_mapping)\n",
    "save(\"train_query_id_to_wfa.pkl\", train_query_id_to_wfa)\n",
    "save(\"test_query_id_to_wfa.pkl\", test_query_id_to_wfa)\n",
    "\n"
   ]
  },
  {
   "cell_type": "markdown",
   "metadata": {},
   "source": [
    "## The plan"
   ]
  },
  {
   "cell_type": "markdown",
   "metadata": {},
   "source": [
    "The dataset\n",
    "1. Implementation of the model's forward pass.\n",
    "2. Feed the query, the passages and the well formed answers to the Roberta model to get the embeddings.\n",
    "3. Save them in the disk for all the docs and the queries.\n",
    "\n",
    "# Generating Batches of data\n",
    "0. Look up generation[DONE]\n",
    "1. Embedding generation in memory for DOCS[DONE]\n",
    "2. I have to figure out how to create a batch of size B * T tokens to then encoded which are padded. \n",
    "NOTE: I did not use a collator the last time around for preparing my data for the tiny stories task. But I might this time.\n",
    "\n",
    "1.1. Data -> Dataset. I need to retrieve the doc IDs only during training time for getting the embeddings which would be B size vector with teh doc id of each passage. Same for the query IDs which I would use to retrive the query embeddings. Here would be the outoput from the torch dataset `__getitem__` method.\n",
    "{\n",
    "    \"query_id\":...\n",
    "    \"passage_ids\":[], # We don't need anything the well formed answer because its 1:1 mapped to query_id.\n",
    "}\n",
    "    - Create the dataset and the loader to do this. \n",
    "    - Keep all the embeddings with faiss in memory should not be that big, but lets test this.\n",
    "    - We can load the embeddings for the top K passages per the query from the specific query in the __getitem__ method of the dataset return those passage IDs. \n",
    "    - I'll need to save `*_query_id_to_query_mapping`, `*_url_id_to_doctext_mapping` and `*_query_id_to_wfa`\n",
    "        giving me access to all three things i need to make the dataset.\n",
    "\n",
    "3. The forward pass over the dataloader should load all the passages \n",
    "    -  In the loop:\n",
    "        - Lets do the tokenization and padding in the loop using the convenient huggingface interface. \n",
    "        - The query embeddings will need to be generated on the fly from the tunable model.I think we will use the Pipeline \n",
    "        - This will distribute the load of the task between the dataloader and the model's forward pass.\n",
    "\n",
    "4. Forward pass:\n",
    "NEXT: Feed the query and concatenated passages to the encoder of BART model.\n",
    "NEXT: Get the embeddings for the query and \n"
   ]
  },
  {
   "cell_type": "code",
   "execution_count": 8,
   "metadata": {},
   "outputs": [
    {
     "ename": "ImportError",
     "evalue": "\nRobertaModel requires the PyTorch library but it was not found in your environment. Checkout the instructions on the\ninstallation page: https://pytorch.org/get-started/locally/ and follow the ones that match your environment.\nPlease note that you may need to restart your runtime after installation.\n",
     "output_type": "error",
     "traceback": [
      "\u001b[0;31m---------------------------------------------------------------------------\u001b[0m",
      "\u001b[0;31mImportError\u001b[0m                               Traceback (most recent call last)",
      "Cell \u001b[0;32mIn[8], line 4\u001b[0m\n\u001b[1;32m      1\u001b[0m \u001b[38;5;28;01mfrom\u001b[39;00m \u001b[38;5;21;01mtransformers\u001b[39;00m \u001b[38;5;28;01mimport\u001b[39;00m RobertaModel, BartModel, RobertaTokenizer, BartTokenizer\n\u001b[1;32m      3\u001b[0m \u001b[38;5;66;03m# Load RoBERTa\u001b[39;00m\n\u001b[0;32m----> 4\u001b[0m roberta \u001b[38;5;241m=\u001b[39m \u001b[43mRobertaModel\u001b[49m\u001b[38;5;241;43m.\u001b[39;49m\u001b[43mfrom_pretrained\u001b[49m(\u001b[38;5;124m'\u001b[39m\u001b[38;5;124mroberta-base\u001b[39m\u001b[38;5;124m'\u001b[39m)\n\u001b[1;32m      5\u001b[0m roberta_tokenizer \u001b[38;5;241m=\u001b[39m RobertaTokenizer\u001b[38;5;241m.\u001b[39mfrom_pretrained(\u001b[38;5;124m'\u001b[39m\u001b[38;5;124mroberta-base\u001b[39m\u001b[38;5;124m'\u001b[39m)\n",
      "File \u001b[0;32m~/miniconda3/envs/mlx-week8/lib/python3.11/site-packages/transformers/utils/import_utils.py:1450\u001b[0m, in \u001b[0;36mDummyObject.__getattribute__\u001b[0;34m(cls, key)\u001b[0m\n\u001b[1;32m   1448\u001b[0m \u001b[38;5;28;01mif\u001b[39;00m key\u001b[38;5;241m.\u001b[39mstartswith(\u001b[38;5;124m\"\u001b[39m\u001b[38;5;124m_\u001b[39m\u001b[38;5;124m\"\u001b[39m) \u001b[38;5;129;01mand\u001b[39;00m key \u001b[38;5;241m!=\u001b[39m \u001b[38;5;124m\"\u001b[39m\u001b[38;5;124m_from_config\u001b[39m\u001b[38;5;124m\"\u001b[39m:\n\u001b[1;32m   1449\u001b[0m     \u001b[38;5;28;01mreturn\u001b[39;00m \u001b[38;5;28msuper\u001b[39m()\u001b[38;5;241m.\u001b[39m\u001b[38;5;21m__getattribute__\u001b[39m(key)\n\u001b[0;32m-> 1450\u001b[0m \u001b[43mrequires_backends\u001b[49m\u001b[43m(\u001b[49m\u001b[38;5;28;43mcls\u001b[39;49m\u001b[43m,\u001b[49m\u001b[43m \u001b[49m\u001b[38;5;28;43mcls\u001b[39;49m\u001b[38;5;241;43m.\u001b[39;49m\u001b[43m_backends\u001b[49m\u001b[43m)\u001b[49m\n",
      "File \u001b[0;32m~/miniconda3/envs/mlx-week8/lib/python3.11/site-packages/transformers/utils/import_utils.py:1438\u001b[0m, in \u001b[0;36mrequires_backends\u001b[0;34m(obj, backends)\u001b[0m\n\u001b[1;32m   1436\u001b[0m failed \u001b[38;5;241m=\u001b[39m [msg\u001b[38;5;241m.\u001b[39mformat(name) \u001b[38;5;28;01mfor\u001b[39;00m available, msg \u001b[38;5;129;01min\u001b[39;00m checks \u001b[38;5;28;01mif\u001b[39;00m \u001b[38;5;129;01mnot\u001b[39;00m available()]\n\u001b[1;32m   1437\u001b[0m \u001b[38;5;28;01mif\u001b[39;00m failed:\n\u001b[0;32m-> 1438\u001b[0m     \u001b[38;5;28;01mraise\u001b[39;00m \u001b[38;5;167;01mImportError\u001b[39;00m(\u001b[38;5;124m\"\u001b[39m\u001b[38;5;124m\"\u001b[39m\u001b[38;5;241m.\u001b[39mjoin(failed))\n",
      "\u001b[0;31mImportError\u001b[0m: \nRobertaModel requires the PyTorch library but it was not found in your environment. Checkout the instructions on the\ninstallation page: https://pytorch.org/get-started/locally/ and follow the ones that match your environment.\nPlease note that you may need to restart your runtime after installation.\n"
     ]
    }
   ],
   "source": [
    ")\n"
   ]
  },
  {
   "cell_type": "code",
   "execution_count": null,
   "metadata": {},
   "outputs": [],
   "source": []
  }
 ],
 "metadata": {
  "kernelspec": {
   "display_name": "Python 3 (ipykernel)",
   "language": "python",
   "name": "python3"
  },
  "language_info": {
   "codemirror_mode": {
    "name": "ipython",
    "version": 3
   },
   "file_extension": ".py",
   "mimetype": "text/x-python",
   "name": "python",
   "nbconvert_exporter": "python",
   "pygments_lexer": "ipython3",
   "version": "3.11.9"
  }
 },
 "nbformat": 4,
 "nbformat_minor": 2
}
